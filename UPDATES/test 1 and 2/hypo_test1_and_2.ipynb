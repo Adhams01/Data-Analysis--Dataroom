{
  "cells": [
    {
      "cell_type": "markdown",
      "id": "1a84a9a6",
      "metadata": {
        "id": "1a84a9a6"
      },
      "source": [
        "imports"
      ]
    },
    {
      "cell_type": "code",
      "execution_count": null,
      "id": "8722b0e6",
      "metadata": {
        "id": "8722b0e6"
      },
      "outputs": [],
      "source": [
        "import pandas as pd\n",
        "import numpy as np\n",
        "import matplotlib.pyplot as plt\n",
        "import seaborn as sns\n",
        "import os\n",
        "from scipy import stats\n",
        "from statsmodels.tsa.seasonal import seasonal_decompose\n",
        "from statsmodels.tsa.stattools import adfuller\n",
        "import pymannkendall as mk\n",
        "from statsmodels.tsa.statespace.sarimax import SARIMAX\n",
        "from statsmodels.tsa.stattools import acf, pacf\n",
        "from statsmodels.graphics.tsaplots import plot_acf, plot_pacf\n",
        "from statsmodels.tsa.arima.model import ARIMA\n",
        "import statsmodels.api as sm\n",
        "from scipy.stats import chi2_contingency, kruskal\n",
        "from statsmodels.tsa.stattools import ccf\n",
        "import warnings\n",
        "warnings.filterwarnings('ignore')"
      ]
    },
    {
      "cell_type": "markdown",
      "id": "1b7dd531",
      "metadata": {
        "id": "1b7dd531"
      },
      "source": [
        "initialization"
      ]
    },
    {
      "cell_type": "code",
      "execution_count": null,
      "id": "417c3099",
      "metadata": {
        "id": "417c3099",
        "outputId": "4741f789-e124-4202-f25e-11204d2a1597"
      },
      "outputs": [
        {
          "name": "stdout",
          "output_type": "stream",
          "text": [
            "Dataset loaded with 2478 rows and 46 columns\n",
            "Inflation data extracted with 36 unique year entries\n"
          ]
        }
      ],
      "source": [
        "# Create output directory for plots\n",
        "output_dir = \"statistical_test_results\"\n",
        "if not os.path.exists(output_dir):\n",
        "    os.makedirs(output_dir)\n",
        "\n",
        "# Load the dataset\n",
        "df = pd.read_csv(\"Egypt_terr_augmented.csv\")\n",
        "print(f\"Dataset loaded with {df.shape[0]} rows and {df.shape[1]} columns\")\n",
        "\n",
        "# Basic data preparation\n",
        "# Get the name of the last column which contains inflation data\n",
        "last_column = df.columns[-1]\n",
        "\n",
        "# Convert date components to datetime\n",
        "df['date'] = pd.to_datetime({'year': df['iyear'],\n",
        "                            'month': df['imonth'],\n",
        "                            'day': df['iday']}, errors='coerce')\n",
        "\n",
        "# Extract inflation data from the last column in the same dataset\n",
        "# Create a dataframe with unique years and their corresponding inflation values\n",
        "inflation_data = df[['iyear', last_column]].drop_duplicates().reset_index(drop=True)\n",
        "print(f\"Inflation data extracted with {inflation_data.shape[0]} unique year entries\")\n",
        "\n",
        "# Create yearly aggregation for time series analysis\n",
        "yearly_counts = df.groupby('iyear').size().reset_index(name='incident_count')\n",
        "yearly_counts = pd.merge(yearly_counts, inflation_data, on='iyear', how='left')\n",
        "\n",
        "# Create regional aggregation\n",
        "region_counts = df.groupby('provstate').size().reset_index(name='incident_count')\n",
        "region_counts = region_counts.sort_values('incident_count', ascending=False)\n",
        "\n",
        "# Calculate fatalities by region\n",
        "region_fatalities = df.groupby('provstate')['nkill'].agg(['sum', 'mean', 'count']).reset_index()\n",
        "region_fatalities = region_fatalities.sort_values('sum', ascending=False)\n"
      ]
    },
    {
      "cell_type": "markdown",
      "id": "e54959de",
      "metadata": {
        "id": "e54959de"
      },
      "source": [
        "Test 1 The frequency of terrorism incidents has significantly increased\n",
        "over the studied period (1970-2017)"
      ]
    },
    {
      "cell_type": "code",
      "execution_count": null,
      "id": "9b16b536",
      "metadata": {
        "id": "9b16b536",
        "outputId": "ed209cc5-cfda-4cf4-8542-98080d27deab"
      },
      "outputs": [
        {
          "name": "stdout",
          "output_type": "stream",
          "text": [
            "Trend: Increasing\n",
            "h (hypothesis): True\n",
            "p-value: 0.000127\n",
            "z-value: 3.831878\n",
            "Tau: 0.444444\n",
            "s: 280.0\n",
            "var_s: 5301.333333333333\n",
            "slope: 1.000000\n",
            "intercept: -11.500000\n"
          ]
        }
      ],
      "source": [
        "# Test 1\n",
        "result = mk.original_test(yearly_counts['incident_count'])\n",
        "print(f\"Trend: {'Increasing' if result.trend == 'increasing' else 'Decreasing' if result.trend == 'decreasing' else 'No trend'}\")\n",
        "print(f\"h (hypothesis): {result.h}\")\n",
        "print(f\"p-value: {result.p:.6f}\")\n",
        "print(f\"z-value: {result.z:.6f}\")\n",
        "print(f\"Tau: {result.Tau:.6f}\")\n",
        "print(f\"s: {result.s}\")\n",
        "print(f\"var_s: {result.var_s}\")\n",
        "print(f\"slope: {result.slope:.6f}\")\n",
        "print(f\"intercept: {result.intercept:.6f}\")\n",
        "\n",
        "# Visualize the trend\n",
        "plt.figure(figsize=(12, 6))\n",
        "plt.plot(yearly_counts['iyear'], yearly_counts['incident_count'], marker='o')\n",
        "plt.title('Terrorism Incidents in Egypt (1970-2017)')\n",
        "plt.xlabel('Year')\n",
        "plt.ylabel('Number of Incidents')\n",
        "plt.grid(True)\n",
        "plt.savefig(os.path.join(output_dir, \"Test_1.png\"))\n",
        "plt.close()"
      ]
    },
    {
      "cell_type": "markdown",
      "id": "a77e4abf",
      "metadata": {
        "id": "a77e4abf"
      },
      "source": [
        "Test 2 Certain geographical regions within Egypt are disproportionately\n",
        "affected by terrorism incidents"
      ]
    },
    {
      "cell_type": "code",
      "execution_count": null,
      "id": "e2ffc140",
      "metadata": {
        "id": "e2ffc140",
        "outputId": "a1cc2749-543d-40a8-b773-e1381ae0f001"
      },
      "outputs": [
        {
          "name": "stdout",
          "output_type": "stream",
          "text": [
            "Top 10 regions by incident count:\n",
            "      provstate  incident_count\n",
            "27  North Sinai            1276\n",
            "11        Cairo             227\n",
            "23        Minya             187\n",
            "8         Asyut             128\n",
            "17         Giza             117\n",
            "4    Al Sharqia              61\n",
            "15       Faiyum              60\n",
            "5    Alexandria              51\n",
            "42      Unknown              40\n",
            "16      Gharbia              30\n",
            "Chi-square statistic: 5894.5158\n",
            "p-value: 0.0000000000\n",
            "Degrees of freedom: 9\n",
            "Result: Reject null hypothesis - regions are disproportionately affected\n"
          ]
        }
      ],
      "source": [
        "# 2. Chi-Square Test for Regional Distribution\n",
        "# Get top 10 regions by incident count\n",
        "top_regions = region_counts.head(10)\n",
        "print(\"Top 10 regions by incident count:\")\n",
        "print(top_regions)\n",
        "\n",
        "# Chi-square test (comparing to equal distribution)\n",
        "observed = top_regions['incident_count'].values\n",
        "expected = np.ones_like(observed) * observed.sum() / len(observed)\n",
        "chi2, p_value = stats.chisquare(observed, expected)\n",
        "print(f\"Chi-square statistic: {chi2:.4f}\")\n",
        "print(f\"p-value: {p_value:.10f}\")\n",
        "print(f\"Degrees of freedom: {len(observed) - 1}\")\n",
        "if p_value < 0.05:\n",
        "    print(\"Result: Reject null hypothesis - regions are disproportionately affected\")\n",
        "else:\n",
        "    print(\"Result: Fail to reject null hypothesis - no significant disproportion\")\n",
        "\n",
        "# Visualize regional distribution\n",
        "plt.figure(figsize=(14, 6))\n",
        "sns.barplot(x='provstate', y='incident_count', data=top_regions)\n",
        "plt.title('Top 10 Regions by Terrorism Incidents in Egypt (1970-2017)')\n",
        "plt.xlabel('Region')\n",
        "plt.ylabel('Number of Incidents')\n",
        "plt.xticks(rotation=45, ha='right')\n",
        "plt.tight_layout()\n",
        "plt.savefig(os.path.join(output_dir, \"Test_2.png\"))\n",
        "plt.close()\n"
      ]
    }
  ],
  "metadata": {
    "kernelspec": {
      "display_name": "Python 3",
      "language": "python",
      "name": "python3"
    },
    "language_info": {
      "codemirror_mode": {
        "name": "ipython",
        "version": 3
      },
      "file_extension": ".py",
      "mimetype": "text/x-python",
      "name": "python",
      "nbconvert_exporter": "python",
      "pygments_lexer": "ipython3",
      "version": "3.12.1"
    },
    "colab": {
      "provenance": []
    }
  },
  "nbformat": 4,
  "nbformat_minor": 5
}